{
 "cells": [
  {
   "cell_type": "code",
   "execution_count": 1,
   "metadata": {},
   "outputs": [],
   "source": [
    "# Caso di studio: Titanic"
   ]
  },
  {
   "cell_type": "code",
   "execution_count": null,
   "metadata": {},
   "outputs": [],
   "source": [
    "# Import delle librerie\n",
    "import pandas as pd"
   ]
  },
  {
   "cell_type": "code",
   "execution_count": 2,
   "metadata": {},
   "outputs": [],
   "source": [
    "# Leggo dal CSV\n",
    "data = pd.read_csv(\"titanic.csv\")"
   ]
  },
  {
   "cell_type": "code",
   "execution_count": 3,
   "metadata": {},
   "outputs": [
    {
     "data": {
      "text/html": [
       "<div>\n",
       "<style scoped>\n",
       "    .dataframe tbody tr th:only-of-type {\n",
       "        vertical-align: middle;\n",
       "    }\n",
       "\n",
       "    .dataframe tbody tr th {\n",
       "        vertical-align: top;\n",
       "    }\n",
       "\n",
       "    .dataframe thead th {\n",
       "        text-align: right;\n",
       "    }\n",
       "</style>\n",
       "<table border=\"1\" class=\"dataframe\">\n",
       "  <thead>\n",
       "    <tr style=\"text-align: right;\">\n",
       "      <th></th>\n",
       "      <th>Survived</th>\n",
       "      <th>Pclass</th>\n",
       "      <th>Sex</th>\n",
       "      <th>Age</th>\n",
       "      <th>Siblings/Spouses</th>\n",
       "      <th>Parents/Children</th>\n",
       "      <th>Fare</th>\n",
       "    </tr>\n",
       "  </thead>\n",
       "  <tbody>\n",
       "    <tr>\n",
       "      <th>0</th>\n",
       "      <td>0</td>\n",
       "      <td>3</td>\n",
       "      <td>male</td>\n",
       "      <td>22.0</td>\n",
       "      <td>1</td>\n",
       "      <td>0</td>\n",
       "      <td>7.2500</td>\n",
       "    </tr>\n",
       "    <tr>\n",
       "      <th>1</th>\n",
       "      <td>1</td>\n",
       "      <td>1</td>\n",
       "      <td>female</td>\n",
       "      <td>38.0</td>\n",
       "      <td>1</td>\n",
       "      <td>0</td>\n",
       "      <td>71.2833</td>\n",
       "    </tr>\n",
       "    <tr>\n",
       "      <th>2</th>\n",
       "      <td>1</td>\n",
       "      <td>3</td>\n",
       "      <td>female</td>\n",
       "      <td>26.0</td>\n",
       "      <td>0</td>\n",
       "      <td>0</td>\n",
       "      <td>7.9250</td>\n",
       "    </tr>\n",
       "    <tr>\n",
       "      <th>3</th>\n",
       "      <td>1</td>\n",
       "      <td>1</td>\n",
       "      <td>female</td>\n",
       "      <td>35.0</td>\n",
       "      <td>1</td>\n",
       "      <td>0</td>\n",
       "      <td>53.1000</td>\n",
       "    </tr>\n",
       "    <tr>\n",
       "      <th>4</th>\n",
       "      <td>0</td>\n",
       "      <td>3</td>\n",
       "      <td>male</td>\n",
       "      <td>35.0</td>\n",
       "      <td>0</td>\n",
       "      <td>0</td>\n",
       "      <td>8.0500</td>\n",
       "    </tr>\n",
       "  </tbody>\n",
       "</table>\n",
       "</div>"
      ],
      "text/plain": [
       "   Survived  Pclass     Sex   Age  Siblings/Spouses  Parents/Children     Fare\n",
       "0         0       3    male  22.0                 1                 0   7.2500\n",
       "1         1       1  female  38.0                 1                 0  71.2833\n",
       "2         1       3  female  26.0                 0                 0   7.9250\n",
       "3         1       1  female  35.0                 1                 0  53.1000\n",
       "4         0       3    male  35.0                 0                 0   8.0500"
      ]
     },
     "execution_count": 3,
     "metadata": {},
     "output_type": "execute_result"
    }
   ],
   "source": [
    "# Stampo i primi cinque record del dataset\n",
    "data.head()"
   ]
  },
  {
   "cell_type": "code",
   "execution_count": 36,
   "metadata": {},
   "outputs": [
    {
     "data": {
      "text/plain": [
       "array(['Survived', 'Pclass', 'Sex', 'Age', 'Siblings/Spouses',\n",
       "       'Parents/Children', 'Fare'], dtype=object)"
      ]
     },
     "execution_count": 36,
     "metadata": {},
     "output_type": "execute_result"
    }
   ],
   "source": [
    "# Stampo i nomi delle colonne\n",
    "data.columns.values"
   ]
  },
  {
   "cell_type": "code",
   "execution_count": 38,
   "metadata": {},
   "outputs": [
    {
     "data": {
      "text/plain": [
       "29.471443066516347"
      ]
     },
     "execution_count": 38,
     "metadata": {},
     "output_type": "execute_result"
    }
   ],
   "source": [
    "# Calcolo la media dell'età dei passeggeri\n",
    "data['Age'].mean()"
   ]
  },
  {
   "cell_type": "code",
   "execution_count": 40,
   "metadata": {},
   "outputs": [
    {
     "data": {
      "text/plain": [
       "array([[<AxesSubplot:title={'center':'Age'}>]], dtype=object)"
      ]
     },
     "execution_count": 40,
     "metadata": {},
     "output_type": "execute_result"
    },
    {
     "data": {
      "image/png": "[encoded data removed]",
      "text/plain": [
       "<Figure size 432x288 with 1 Axes>"
      ]
     },
     "metadata": {
      "needs_background": "light"
     },
     "output_type": "display_data"
    }
   ],
   "source": [
    "# Visualizzo l'età dei passeggeri tramite un istogramma a barre\n",
    "data.hist(column=\"Age\")"
   ]
  },
  {
   "cell_type": "code",
   "execution_count": 45,
   "metadata": {},
   "outputs": [
    {
     "data": {
      "text/plain": [
       "Text(0.5, 0, 'Age (in Years)')"
      ]
     },
     "execution_count": 45,
     "metadata": {},
     "output_type": "execute_result"
    },
    {
     "data": {
      "image/png": "[encoded data removed]",
      "text/plain": [
       "<Figure size 432x288 with 1 Axes>"
      ]
     },
     "metadata": {
      "needs_background": "light"
     },
     "output_type": "display_data"
    }
   ],
   "source": [
    "# Uso matplotlib per rappresentare l'eta dei passeggeri\n",
    "import matplotlib.pyplot as plt\n",
    "\n",
    "# Creazione dell'istogramma\n",
    "plt.hist(data.Age, color = \"skyblue\")\n",
    "# Definizione dei dati da rappresentare\n",
    "plt.axvline(data.Age.mean(), color='k', linestyle='dashed', linewidth=1)\n",
    "# Titolo del grafico\n",
    "plt.title('Ages of Passengers on Titanic')\n",
    "# Etichetta dell'asse y\n",
    "plt.ylabel('Count')\n",
    "# Etichetta dell'asse x\n",
    "plt.xlabel('Age (in Years)')"
   ]
  },
  {
   "cell_type": "code",
   "execution_count": 48,
   "metadata": {},
   "outputs": [
    {
     "data": {
      "text/plain": [
       "-0.059665126330250055"
      ]
     },
     "execution_count": 48,
     "metadata": {},
     "output_type": "execute_result"
    }
   ],
   "source": [
    "# Calcolo della correlazione: misura di quanto due o più attributi di uno stesso gruppo abbiano la tendenza a variare insieme\n",
    "\n",
    "# Correlazione tra i sopravvissuti e l'età\n",
    "data['Survived'].corr(data['Age'])\n",
    "\n",
    "'''\n",
    "# 1 = esiste una correlazione, per cui se uno dei due attributi aumenta, anche l'altro aumenta proporzionalmente\n",
    "# -1 = esiste una correlazione inversa, per cui se uno dei due attributi aumenta, l'altro diminuisce proporzionalmente\n",
    "# 0 = non esiste correlazione tra i due attributi\n",
    "'''"
   ]
  },
  {
   "cell_type": "code",
   "execution_count": 49,
   "metadata": {},
   "outputs": [
    {
     "data": {
      "text/plain": [
       "female    0.542152\n",
       "male     -0.542152\n",
       "dtype: float64"
      ]
     },
     "execution_count": 49,
     "metadata": {},
     "output_type": "execute_result"
    }
   ],
   "source": [
    "'''\n",
    "str.get_dummies crea variabili fittizie (intere) che corrispondono ai valori della stringa e corrwith è un altro modo per calcolare la correlazione quando è necessario farlo tra una combinazione di righe e colonne (corr funziona solo con le colonne).\n",
    "'''\n",
    "data['Sex'].str.get_dummies().corrwith(data['Survived']/data['Survived'].max())"
   ]
  },
  {
   "cell_type": "code",
   "execution_count": 50,
   "metadata": {},
   "outputs": [
    {
     "data": {
      "text/html": [
       "<div>\n",
       "<style scoped>\n",
       "    .dataframe tbody tr th:only-of-type {\n",
       "        vertical-align: middle;\n",
       "    }\n",
       "\n",
       "    .dataframe tbody tr th {\n",
       "        vertical-align: top;\n",
       "    }\n",
       "\n",
       "    .dataframe thead th {\n",
       "        text-align: right;\n",
       "    }\n",
       "</style>\n",
       "<table border=\"1\" class=\"dataframe\">\n",
       "  <thead>\n",
       "    <tr style=\"text-align: right;\">\n",
       "      <th></th>\n",
       "      <th>Survived</th>\n",
       "      <th>Pclass</th>\n",
       "      <th>Age</th>\n",
       "      <th>Siblings/Spouses</th>\n",
       "      <th>Parents/Children</th>\n",
       "      <th>Fare</th>\n",
       "    </tr>\n",
       "  </thead>\n",
       "  <tbody>\n",
       "    <tr>\n",
       "      <th>Survived</th>\n",
       "      <td>1.000000</td>\n",
       "      <td>-0.336528</td>\n",
       "      <td>-0.059665</td>\n",
       "      <td>-0.037082</td>\n",
       "      <td>0.080097</td>\n",
       "      <td>0.256179</td>\n",
       "    </tr>\n",
       "    <tr>\n",
       "      <th>Pclass</th>\n",
       "      <td>-0.336528</td>\n",
       "      <td>1.000000</td>\n",
       "      <td>-0.391492</td>\n",
       "      <td>0.085026</td>\n",
       "      <td>0.020252</td>\n",
       "      <td>-0.548919</td>\n",
       "    </tr>\n",
       "    <tr>\n",
       "      <th>Age</th>\n",
       "      <td>-0.059665</td>\n",
       "      <td>-0.391492</td>\n",
       "      <td>1.000000</td>\n",
       "      <td>-0.297669</td>\n",
       "      <td>-0.193741</td>\n",
       "      <td>0.112329</td>\n",
       "    </tr>\n",
       "    <tr>\n",
       "      <th>Siblings/Spouses</th>\n",
       "      <td>-0.037082</td>\n",
       "      <td>0.085026</td>\n",
       "      <td>-0.297669</td>\n",
       "      <td>1.000000</td>\n",
       "      <td>0.414244</td>\n",
       "      <td>0.158839</td>\n",
       "    </tr>\n",
       "    <tr>\n",
       "      <th>Parents/Children</th>\n",
       "      <td>0.080097</td>\n",
       "      <td>0.020252</td>\n",
       "      <td>-0.193741</td>\n",
       "      <td>0.414244</td>\n",
       "      <td>1.000000</td>\n",
       "      <td>0.215470</td>\n",
       "    </tr>\n",
       "    <tr>\n",
       "      <th>Fare</th>\n",
       "      <td>0.256179</td>\n",
       "      <td>-0.548919</td>\n",
       "      <td>0.112329</td>\n",
       "      <td>0.158839</td>\n",
       "      <td>0.215470</td>\n",
       "      <td>1.000000</td>\n",
       "    </tr>\n",
       "  </tbody>\n",
       "</table>\n",
       "</div>"
      ],
      "text/plain": [
       "                  Survived    Pclass       Age  Siblings/Spouses  \\\n",
       "Survived          1.000000 -0.336528 -0.059665         -0.037082   \n",
       "Pclass           -0.336528  1.000000 -0.391492          0.085026   \n",
       "Age              -0.059665 -0.391492  1.000000         -0.297669   \n",
       "Siblings/Spouses -0.037082  0.085026 -0.297669          1.000000   \n",
       "Parents/Children  0.080097  0.020252 -0.193741          0.414244   \n",
       "Fare              0.256179 -0.548919  0.112329          0.158839   \n",
       "\n",
       "                  Parents/Children      Fare  \n",
       "Survived                  0.080097  0.256179  \n",
       "Pclass                    0.020252 -0.548919  \n",
       "Age                      -0.193741  0.112329  \n",
       "Siblings/Spouses          0.414244  0.158839  \n",
       "Parents/Children          1.000000  0.215470  \n",
       "Fare                      0.215470  1.000000  "
      ]
     },
     "execution_count": 50,
     "metadata": {},
     "output_type": "execute_result"
    }
   ],
   "source": [
    "data.corr()"
   ]
  },
  {
   "cell_type": "code",
   "execution_count": 65,
   "metadata": {},
   "outputs": [
    {
     "data": {
      "text/plain": [
       "'\\nDonne e bambini? Conosciamo tutti il vecchio detto che quando una nave sta affondando,  \"donne e bambini prima di tutti\" nelle scialuppe di salvataggio. Questo vecchio modo dire rispecchia la realtà dei sopravvissuti sul Titanic? Sono sopravvissute più donne e bambini degli uomini adulti? Il sesso, l\\'età o la classe delle persone contavano di più sul Titanic per la loro sopravvivenza? '"
      ]
     },
     "execution_count": 65,
     "metadata": {},
     "output_type": "execute_result"
    }
   ],
   "source": [
    "'''\n",
    "Donne e bambini? Conosciamo tutti il vecchio detto che quando una nave sta affondando,  \"donne e bambini prima di tutti\" nelle scialuppe di salvataggio. Questo vecchio modo dire rispecchia la realtà dei sopravvissuti sul Titanic? Sono sopravvissute più donne e bambini degli uomini adulti? Il sesso, l'età o la classe delle persone contavano di più sul Titanic per la loro sopravvivenza? '''"
   ]
  },
  {
   "cell_type": "code",
   "execution_count": 52,
   "metadata": {},
   "outputs": [
    {
     "data": {
      "text/plain": [
       "(94, 7)"
      ]
     },
     "execution_count": 52,
     "metadata": {},
     "output_type": "execute_result"
    }
   ],
   "source": [
    "children = data[data['Age'] < 16]\n",
    "children.shape"
   ]
  },
  {
   "cell_type": "code",
   "execution_count": 53,
   "metadata": {},
   "outputs": [
    {
     "data": {
      "text/plain": [
       "array([[<AxesSubplot:title={'center':'Survived'}>,\n",
       "        <AxesSubplot:title={'center':'Pclass'}>],\n",
       "       [<AxesSubplot:title={'center':'Age'}>,\n",
       "        <AxesSubplot:title={'center':'Siblings/Spouses'}>],\n",
       "       [<AxesSubplot:title={'center':'Parents/Children'}>,\n",
       "        <AxesSubplot:title={'center':'Fare'}>]], dtype=object)"
      ]
     },
     "execution_count": 53,
     "metadata": {},
     "output_type": "execute_result"
    },
    {
     "data": {
      "image/png": "[encoded data removed]",
      "text/plain": [
       "<Figure size 432x288 with 6 Axes>"
      ]
     },
     "metadata": {
      "needs_background": "light"
     },
     "output_type": "display_data"
    }
   ],
   "source": [
    "children.hist()"
   ]
  },
  {
   "cell_type": "code",
   "execution_count": 57,
   "metadata": {},
   "outputs": [
    {
     "data": {
      "text/plain": [
       "Survived            52\n",
       "Pclass              52\n",
       "Sex                 52\n",
       "Age                 52\n",
       "Siblings/Spouses    52\n",
       "Parents/Children    52\n",
       "Fare                52\n",
       "dtype: int64"
      ]
     },
     "execution_count": 57,
     "metadata": {},
     "output_type": "execute_result"
    },
    {
     "data": {
      "image/png": "[encoded data removed]",
      "text/plain": [
       "<Figure size 432x288 with 6 Axes>"
      ]
     },
     "metadata": {
      "needs_background": "light"
     },
     "output_type": "display_data"
    }
   ],
   "source": [
    "living_children = data[(data['Age'] < 16) & (data['Survived'] == 1)]\n",
    "living_children.hist()\n",
    "living_children.count()"
   ]
  },
  {
   "cell_type": "code",
   "execution_count": 56,
   "metadata": {},
   "outputs": [
    {
     "data": {
      "text/plain": [
       "Survived            42\n",
       "Pclass              42\n",
       "Sex                 42\n",
       "Age                 42\n",
       "Siblings/Spouses    42\n",
       "Parents/Children    42\n",
       "Fare                42\n",
       "dtype: int64"
      ]
     },
     "execution_count": 56,
     "metadata": {},
     "output_type": "execute_result"
    }
   ],
   "source": [
    "not_surviving_children = data[(data['Age'] < 16) & (data['Survived'] == 0)]\n",
    "not_surviving_children\n",
    "not_surviving_children.count()"
   ]
  },
  {
   "cell_type": "code",
   "execution_count": 59,
   "metadata": {},
   "outputs": [
    {
     "data": {
      "text/plain": [
       "1    71.50838\n",
       "0    28.49162\n",
       "Name: Survived, dtype: float64"
      ]
     },
     "execution_count": 59,
     "metadata": {},
     "output_type": "execute_result"
    }
   ],
   "source": [
    "# Probabilità di sopravvivenza se donna o bambino\n",
    "\n",
    "women_and_children = data[(data['Sex'] == \"female\") | (data['Age'] < 16)]\n",
    "w_a_c_survival_rate = women_and_children['Survived'].value_counts(normalize=True) * 100\n",
    "w_a_c_survival_rate"
   ]
  },
  {
   "cell_type": "code",
   "execution_count": 64,
   "metadata": {},
   "outputs": [
    {
     "data": {
      "text/plain": [
       "0    83.527132\n",
       "1    16.472868\n",
       "Name: Survived, dtype: float64"
      ]
     },
     "execution_count": 64,
     "metadata": {},
     "output_type": "execute_result"
    }
   ],
   "source": [
    "# Probabilità di sopravvivenza se uomo\n",
    "\n",
    "adult_men = data[(data['Sex'].str.match('male')) & (data['Age'] > 16)]\n",
    "a_m_survival_rate = adult_men['Survived'].value_counts(normalize=True) * 100\n",
    "a_m_survival_rate"
   ]
  },
  {
   "cell_type": "code",
   "execution_count": null,
   "metadata": {},
   "outputs": [],
   "source": [
    "# Meno di 1 uomo su 5 sul Titanic è sopravvissuto.\n",
    "\n",
    "# Quasi 4 donne su 5 sul Titanic sono sopravvissute."
   ]
  },
  {
   "cell_type": "code",
   "execution_count": 67,
   "metadata": {},
   "outputs": [
    {
     "data": {
      "text/html": [
       "<div>\n",
       "<style scoped>\n",
       "    .dataframe tbody tr th:only-of-type {\n",
       "        vertical-align: middle;\n",
       "    }\n",
       "\n",
       "    .dataframe tbody tr th {\n",
       "        vertical-align: top;\n",
       "    }\n",
       "\n",
       "    .dataframe thead th {\n",
       "        text-align: right;\n",
       "    }\n",
       "</style>\n",
       "<table border=\"1\" class=\"dataframe\">\n",
       "  <thead>\n",
       "    <tr style=\"text-align: right;\">\n",
       "      <th></th>\n",
       "      <th>Survived</th>\n",
       "      <th>Pclass</th>\n",
       "      <th>Age</th>\n",
       "      <th>Siblings/Spouses</th>\n",
       "      <th>Parents/Children</th>\n",
       "      <th>Fare</th>\n",
       "    </tr>\n",
       "  </thead>\n",
       "  <tbody>\n",
       "    <tr>\n",
       "      <th>count</th>\n",
       "      <td>85.0</td>\n",
       "      <td>85.000000</td>\n",
       "      <td>85.000000</td>\n",
       "      <td>85.000000</td>\n",
       "      <td>85.000000</td>\n",
       "      <td>85.000000</td>\n",
       "    </tr>\n",
       "    <tr>\n",
       "      <th>mean</th>\n",
       "      <td>1.0</td>\n",
       "      <td>1.917647</td>\n",
       "      <td>33.870588</td>\n",
       "      <td>0.247059</td>\n",
       "      <td>0.105882</td>\n",
       "      <td>43.108041</td>\n",
       "    </tr>\n",
       "    <tr>\n",
       "      <th>std</th>\n",
       "      <td>0.0</td>\n",
       "      <td>0.953836</td>\n",
       "      <td>11.459856</td>\n",
       "      <td>0.485648</td>\n",
       "      <td>0.378705</td>\n",
       "      <td>78.590480</td>\n",
       "    </tr>\n",
       "    <tr>\n",
       "      <th>min</th>\n",
       "      <td>1.0</td>\n",
       "      <td>1.000000</td>\n",
       "      <td>17.000000</td>\n",
       "      <td>0.000000</td>\n",
       "      <td>0.000000</td>\n",
       "      <td>0.000000</td>\n",
       "    </tr>\n",
       "    <tr>\n",
       "      <th>25%</th>\n",
       "      <td>1.0</td>\n",
       "      <td>1.000000</td>\n",
       "      <td>26.000000</td>\n",
       "      <td>0.000000</td>\n",
       "      <td>0.000000</td>\n",
       "      <td>8.050000</td>\n",
       "    </tr>\n",
       "    <tr>\n",
       "      <th>50%</th>\n",
       "      <td>1.0</td>\n",
       "      <td>2.000000</td>\n",
       "      <td>32.000000</td>\n",
       "      <td>0.000000</td>\n",
       "      <td>0.000000</td>\n",
       "      <td>26.550000</td>\n",
       "    </tr>\n",
       "    <tr>\n",
       "      <th>75%</th>\n",
       "      <td>1.0</td>\n",
       "      <td>3.000000</td>\n",
       "      <td>40.000000</td>\n",
       "      <td>0.000000</td>\n",
       "      <td>0.000000</td>\n",
       "      <td>52.554200</td>\n",
       "    </tr>\n",
       "    <tr>\n",
       "      <th>max</th>\n",
       "      <td>1.0</td>\n",
       "      <td>3.000000</td>\n",
       "      <td>80.000000</td>\n",
       "      <td>2.000000</td>\n",
       "      <td>2.000000</td>\n",
       "      <td>512.329200</td>\n",
       "    </tr>\n",
       "  </tbody>\n",
       "</table>\n",
       "</div>"
      ],
      "text/plain": [
       "       Survived     Pclass        Age  Siblings/Spouses  Parents/Children  \\\n",
       "count      85.0  85.000000  85.000000         85.000000         85.000000   \n",
       "mean        1.0   1.917647  33.870588          0.247059          0.105882   \n",
       "std         0.0   0.953836  11.459856          0.485648          0.378705   \n",
       "min         1.0   1.000000  17.000000          0.000000          0.000000   \n",
       "25%         1.0   1.000000  26.000000          0.000000          0.000000   \n",
       "50%         1.0   2.000000  32.000000          0.000000          0.000000   \n",
       "75%         1.0   3.000000  40.000000          0.000000          0.000000   \n",
       "max         1.0   3.000000  80.000000          2.000000          2.000000   \n",
       "\n",
       "             Fare  \n",
       "count   85.000000  \n",
       "mean    43.108041  \n",
       "std     78.590480  \n",
       "min      0.000000  \n",
       "25%      8.050000  \n",
       "50%     26.550000  \n",
       "75%     52.554200  \n",
       "max    512.329200  "
      ]
     },
     "execution_count": 67,
     "metadata": {},
     "output_type": "execute_result"
    }
   ],
   "source": [
    "surviving_men = data[(data['Sex'] == \"male\") & (data['Age'] > 16) & (data['Survived'] == 1)]\n",
    "surviving_men.describe()"
   ]
  },
  {
   "cell_type": "code",
   "execution_count": 68,
   "metadata": {},
   "outputs": [
    {
     "data": {
      "text/html": [
       "<div>\n",
       "<style scoped>\n",
       "    .dataframe tbody tr th:only-of-type {\n",
       "        vertical-align: middle;\n",
       "    }\n",
       "\n",
       "    .dataframe tbody tr th {\n",
       "        vertical-align: top;\n",
       "    }\n",
       "\n",
       "    .dataframe thead th {\n",
       "        text-align: right;\n",
       "    }\n",
       "</style>\n",
       "<table border=\"1\" class=\"dataframe\">\n",
       "  <thead>\n",
       "    <tr style=\"text-align: right;\">\n",
       "      <th></th>\n",
       "      <th>Survived</th>\n",
       "      <th>Pclass</th>\n",
       "      <th>Age</th>\n",
       "      <th>Siblings/Spouses</th>\n",
       "      <th>Parents/Children</th>\n",
       "      <th>Fare</th>\n",
       "    </tr>\n",
       "  </thead>\n",
       "  <tbody>\n",
       "    <tr>\n",
       "      <th>count</th>\n",
       "      <td>431.0</td>\n",
       "      <td>431.000000</td>\n",
       "      <td>431.000000</td>\n",
       "      <td>431.000000</td>\n",
       "      <td>431.000000</td>\n",
       "      <td>431.000000</td>\n",
       "    </tr>\n",
       "    <tr>\n",
       "      <th>mean</th>\n",
       "      <td>0.0</td>\n",
       "      <td>2.436195</td>\n",
       "      <td>32.738979</td>\n",
       "      <td>0.266821</td>\n",
       "      <td>0.146172</td>\n",
       "      <td>21.581291</td>\n",
       "    </tr>\n",
       "    <tr>\n",
       "      <th>std</th>\n",
       "      <td>0.0</td>\n",
       "      <td>0.777586</td>\n",
       "      <td>12.761624</td>\n",
       "      <td>0.804516</td>\n",
       "      <td>0.532199</td>\n",
       "      <td>33.466723</td>\n",
       "    </tr>\n",
       "    <tr>\n",
       "      <th>min</th>\n",
       "      <td>0.0</td>\n",
       "      <td>1.000000</td>\n",
       "      <td>17.000000</td>\n",
       "      <td>0.000000</td>\n",
       "      <td>0.000000</td>\n",
       "      <td>0.000000</td>\n",
       "    </tr>\n",
       "    <tr>\n",
       "      <th>25%</th>\n",
       "      <td>0.0</td>\n",
       "      <td>2.000000</td>\n",
       "      <td>22.500000</td>\n",
       "      <td>0.000000</td>\n",
       "      <td>0.000000</td>\n",
       "      <td>7.775000</td>\n",
       "    </tr>\n",
       "    <tr>\n",
       "      <th>50%</th>\n",
       "      <td>0.0</td>\n",
       "      <td>3.000000</td>\n",
       "      <td>29.000000</td>\n",
       "      <td>0.000000</td>\n",
       "      <td>0.000000</td>\n",
       "      <td>8.662500</td>\n",
       "    </tr>\n",
       "    <tr>\n",
       "      <th>75%</th>\n",
       "      <td>0.0</td>\n",
       "      <td>3.000000</td>\n",
       "      <td>40.000000</td>\n",
       "      <td>0.000000</td>\n",
       "      <td>0.000000</td>\n",
       "      <td>24.150000</td>\n",
       "    </tr>\n",
       "    <tr>\n",
       "      <th>max</th>\n",
       "      <td>0.0</td>\n",
       "      <td>3.000000</td>\n",
       "      <td>74.000000</td>\n",
       "      <td>8.000000</td>\n",
       "      <td>5.000000</td>\n",
       "      <td>263.000000</td>\n",
       "    </tr>\n",
       "  </tbody>\n",
       "</table>\n",
       "</div>"
      ],
      "text/plain": [
       "       Survived      Pclass         Age  Siblings/Spouses  Parents/Children  \\\n",
       "count     431.0  431.000000  431.000000        431.000000        431.000000   \n",
       "mean        0.0    2.436195   32.738979          0.266821          0.146172   \n",
       "std         0.0    0.777586   12.761624          0.804516          0.532199   \n",
       "min         0.0    1.000000   17.000000          0.000000          0.000000   \n",
       "25%         0.0    2.000000   22.500000          0.000000          0.000000   \n",
       "50%         0.0    3.000000   29.000000          0.000000          0.000000   \n",
       "75%         0.0    3.000000   40.000000          0.000000          0.000000   \n",
       "max         0.0    3.000000   74.000000          8.000000          5.000000   \n",
       "\n",
       "             Fare  \n",
       "count  431.000000  \n",
       "mean    21.581291  \n",
       "std     33.466723  \n",
       "min      0.000000  \n",
       "25%      7.775000  \n",
       "50%      8.662500  \n",
       "75%     24.150000  \n",
       "max    263.000000  "
      ]
     },
     "execution_count": 68,
     "metadata": {},
     "output_type": "execute_result"
    }
   ],
   "source": [
    "dead_men = data[(data['Sex'] == \"male\") & (data['Age'] > 16) & (data['Survived'] == 0)]\n",
    "dead_men.describe()"
   ]
  },
  {
   "cell_type": "code",
   "execution_count": null,
   "metadata": {},
   "outputs": [],
   "source": []
  },
  {
   "cell_type": "code",
   "execution_count": null,
   "metadata": {},
   "outputs": [],
   "source": []
  },
  {
   "cell_type": "code",
   "execution_count": null,
   "metadata": {},
   "outputs": [],
   "source": []
  }
 ],
 "metadata": {
  "kernelspec": {
   "display_name": "Python 3",
   "language": "python",
   "name": "python3"
  },
  "language_info": {
   "codemirror_mode": {
    "name": "ipython",
    "version": 3
   },
   "file_extension": ".py",
   "mimetype": "text/x-python",
   "name": "python",
   "nbconvert_exporter": "python",
   "pygments_lexer": "ipython3",
   "version": "3.6.13"
  }
 },
 "nbformat": 4,
 "nbformat_minor": 2
}
